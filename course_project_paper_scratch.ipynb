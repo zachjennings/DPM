{
 "cells": [
  {
   "cell_type": "code",
   "execution_count": 51,
   "metadata": {
    "collapsed": false
   },
   "outputs": [],
   "source": [
    "%matplotlib inline\n",
    "import matplotlib.pyplot as plt\n",
    "\n",
    "import scipy.stats as stats\n",
    "from scipy.ndimage import maximum_filter\n",
    "import scipy.ndimage as ndimage\n",
    "import scipy.ndimage.filters as filters\n",
    "import numpy as np\n",
    "import seaborn as sea\n",
    "from scipy.special import gamma\n",
    "import matplotlib.patches as mpatches\n",
    "import dpm\n",
    "reload(dpm)\n",
    "\n",
    "\n",
    "\n",
    "plt.rc('xtick', labelsize=12) \n",
    "plt.rc('ytick', labelsize=12) \n",
    "plt.rc('text', usetex=True)\n",
    "plt.rc('font', family='serif')\n",
    "plt.rcParams.update({'font.size': 12})"
   ]
  },
  {
   "cell_type": "code",
   "execution_count": 52,
   "metadata": {
    "collapsed": false
   },
   "outputs": [],
   "source": [
    "prior_fake_data = {'nu_phi':5.,'cov_phi':np.array([[0.1,0.0],[0.0,0.1]]),\\\n",
    "        'a_alpha':5.,'b_alpha':1.,\\\n",
    "        'mean_psi_loc':np.array([1.0,1.0]),'cov_psi_loc':np.array([[2.,0.0],[0.0,2.]]),\\\n",
    "        'nu_psi_cov':np.array([10.]),'cov_psi_cov':np.array([[1.,0.0],[0.0,1.]])}\n",
    "\n",
    "mix_fake_data = dpm.DPM(prior_fake_data,data=fake_data,indv_phi=False,n=50)\n"
   ]
  },
  {
   "cell_type": "code",
   "execution_count": 53,
   "metadata": {
    "collapsed": false
   },
   "outputs": [],
   "source": [
    "mix_fake_data.mcmc_step(n_step=1)"
   ]
  },
  {
   "cell_type": "code",
   "execution_count": 47,
   "metadata": {
    "collapsed": false
   },
   "outputs": [
    {
     "data": {
      "text/plain": [
       "5.0"
      ]
     },
     "execution_count": 47,
     "metadata": {},
     "output_type": "execute_result"
    }
   ],
   "source": [
    "mix_fake_data.nu_phi"
   ]
  },
  {
   "cell_type": "code",
   "execution_count": 73,
   "metadata": {
    "collapsed": true
   },
   "outputs": [],
   "source": [
    "#make some fake MVM data\n",
    "weights = np.ones(5) / 5.\n",
    "data_size = 300\n",
    "dim = 2\n",
    "fake_data = np.zeros((data_size,dim))\n",
    "\n",
    "n_means = 5\n",
    "means = np.array([])\n",
    "for i in range(n_means):\n",
    "    means=np.hstack([means,stats.uniform.rvs(0,2,size=2)])\n",
    "    \n",
    "means = means.reshape(n_means,2)\n",
    "\n",
    "cov_1 = np.array([[0.035, 0.00],[0.00, 0.035]])\n",
    "cov_2 = np.array([[0.045, 0.0042],[0.0042,.045]])\n",
    "cov_3 = np.array([[0.05, 0.004],[0.0042,.05]])\n",
    "cov_4 = np.array([[0.01, 0.0],[0.0,.01]])\n",
    "cov_5 = np.array([[0.015, 0.01],[0.01,.015]])\n",
    "\n",
    "covs = np.dstack([cov_1,cov_2,cov_3,cov_4,cov_5])\n",
    "\n",
    "j_arr = []\n",
    "for i in range(data_size):\n",
    "    j = np.argmin(np.ma.masked_less(np.cumsum(weights) - np.random.uniform(),0))\n",
    "    j_arr.append(j)\n",
    "    fake_data[i,:] = stats.multivariate_normal.rvs(mean=means[j,...],cov=cov_1)"
   ]
  },
  {
   "cell_type": "code",
   "execution_count": 74,
   "metadata": {
    "collapsed": false
   },
   "outputs": [
    {
     "data": {
      "text/plain": [
       "<matplotlib.collections.PathCollection at 0x10e3efed0>"
      ]
     },
     "execution_count": 74,
     "metadata": {},
     "output_type": "execute_result"
    },
    {
     "data": {
      "image/png": "[encoded data removed]",
      "text/plain": [
       "<matplotlib.figure.Figure at 0x10e3ef4d0>"
      ]
     },
     "metadata": {},
     "output_type": "display_data"
    }
   ],
   "source": [
    "fig,ax = plt.subplots(figsize=(10,10))\n",
    "plt.scatter(fake_data[:,0],fake_data[:,1])\n",
    "#fig.savefig('fake_data.pdf')"
   ]
  },
  {
   "cell_type": "code",
   "execution_count": 75,
   "metadata": {
    "collapsed": false
   },
   "outputs": [
    {
     "data": {
      "text/plain": [
       "(array([ 61.,   0.,  50.,   0.,   0.,  75.,   0.,  64.,   0.,  50.]),\n",
       " array([ 0. ,  0.4,  0.8,  1.2,  1.6,  2. ,  2.4,  2.8,  3.2,  3.6,  4. ]),\n",
       " <a list of 10 Patch objects>)"
      ]
     },
     "execution_count": 75,
     "metadata": {},
     "output_type": "execute_result"
    },
    {
     "data": {
      "image/png": "[encoded data removed]",
      "text/plain": [
       "<matplotlib.figure.Figure at 0x10e3eff10>"
      ]
     },
     "metadata": {},
     "output_type": "display_data"
    }
   ],
   "source": [
    "plt.hist(j_arr)"
   ]
  },
  {
   "cell_type": "code",
   "execution_count": 76,
   "metadata": {
    "collapsed": false
   },
   "outputs": [
    {
     "data": {
      "text/plain": [
       "array([[ 1.70852953,  0.96395209],\n",
       "       [ 1.1263435 ,  1.47937922],\n",
       "       [ 0.2365617 ,  0.21016649],\n",
       "       [ 1.73752919,  0.70773422],\n",
       "       [ 0.037305  ,  0.47180196]])"
      ]
     },
     "execution_count": 76,
     "metadata": {},
     "output_type": "execute_result"
    }
   ],
   "source": [
    "means"
   ]
  },
  {
   "cell_type": "code",
   "execution_count": 12,
   "metadata": {
    "collapsed": false
   },
   "outputs": [
    {
     "data": {
      "text/plain": [
       "array([[[ 0.5,  0. ],\n",
       "        [ 0. ,  0.5]],\n",
       "\n",
       "       [[ 0.5,  0. ],\n",
       "        [ 0. ,  0.5]],\n",
       "\n",
       "       [[ 0.5,  0. ],\n",
       "        [ 0. ,  0.5]],\n",
       "\n",
       "       [[ 0.5,  0. ],\n",
       "        [ 0. ,  0.5]],\n",
       "\n",
       "       [[ 0.5,  0. ],\n",
       "        [ 0. ,  0.5]]])"
      ]
     },
     "execution_count": 12,
     "metadata": {},
     "output_type": "execute_result"
    }
   ],
   "source": [
    "np.tile(foo,(5,1)).reshape(5,2,2)"
   ]
  },
  {
   "cell_type": "code",
   "execution_count": null,
   "metadata": {
    "collapsed": true
   },
   "outputs": [],
   "source": []
  }
 ],
 "metadata": {
  "kernelspec": {
   "display_name": "Python 2",
   "language": "python",
   "name": "python2"
  },
  "language_info": {
   "codemirror_mode": {
    "name": "ipython",
    "version": 2
   },
   "file_extension": ".py",
   "mimetype": "text/x-python",
   "name": "python",
   "nbconvert_exporter": "python",
   "pygments_lexer": "ipython2",
   "version": "2.7.10"
  }
 },
 "nbformat": 4,
 "nbformat_minor": 0
}
